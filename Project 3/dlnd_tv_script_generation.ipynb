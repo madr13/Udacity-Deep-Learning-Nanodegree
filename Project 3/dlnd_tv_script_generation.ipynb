{
 "cells": [
  {
   "cell_type": "markdown",
   "metadata": {},
   "source": [
    "# TV Script Generation\n",
    "In this project, you'll generate your own [Simpsons](https://en.wikipedia.org/wiki/The_Simpsons) TV scripts using RNNs.  You'll be using part of the [Simpsons dataset](https://www.kaggle.com/wcukierski/the-simpsons-by-the-data) of scripts from 27 seasons.  The Neural Network you'll build will generate a new TV script for a scene at [Moe's Tavern](https://simpsonswiki.com/wiki/Moe's_Tavern).\n",
    "## Get the Data\n",
    "The data is already provided for you.  You'll be using a subset of the original dataset.  It consists of only the scenes in Moe's Tavern.  This doesn't include other versions of the tavern, like \"Moe's Cavern\", \"Flaming Moe's\", \"Uncle Moe's Family Feed-Bag\", etc.."
   ]
  },
  {
   "cell_type": "code",
   "execution_count": 1,
   "metadata": {},
   "outputs": [],
   "source": [
    "\"\"\"\n",
    "DON'T MODIFY ANYTHING IN THIS CELL\n",
    "\"\"\"\n",
    "import helper\n",
    "\n",
    "data_dir = './data/simpsons/moes_tavern_lines.txt'\n",
    "text = helper.load_data(data_dir)\n",
    "# Ignore notice, since we don't use it for analysing the data\n",
    "text = text[81:]"
   ]
  },
  {
   "cell_type": "markdown",
   "metadata": {},
   "source": [
    "## Explore the Data\n",
    "Play around with `view_sentence_range` to view different parts of the data."
   ]
  },
  {
   "cell_type": "code",
   "execution_count": 24,
   "metadata": {},
   "outputs": [
    {
     "name": "stdout",
     "output_type": "stream",
     "text": [
      "Dataset Stats\n",
      "Roughly the number of unique words: 11492\n",
      "Number of scenes: 262\n",
      "Average number of sentences in each scene: 15.248091603053435\n",
      "Number of lines: 4257\n",
      "Average number of words in each line: 11.50434578341555\n",
      "\n",
      "The sentences 10 to 12:\n",
      "Moe_Szyslak: Ah, isn't that nice. Now, there is a politician who cares.\n",
      "Barney_Gumble: If I ever vote, it'll be for him. (BELCH)\n"
     ]
    }
   ],
   "source": [
    "view_sentence_range = (10, 12)\n",
    "\n",
    "\"\"\"\n",
    "DON'T MODIFY ANYTHING IN THIS CELL\n",
    "\"\"\"\n",
    "import numpy as np\n",
    "\n",
    "print('Dataset Stats')\n",
    "print('Roughly the number of unique words: {}'.format(len({word: None for word in text.split()})))\n",
    "scenes = text.split('\\n\\n')\n",
    "print('Number of scenes: {}'.format(len(scenes)))\n",
    "sentence_count_scene = [scene.count('\\n') for scene in scenes]\n",
    "print('Average number of sentences in each scene: {}'.format(np.average(sentence_count_scene)))\n",
    "\n",
    "sentences = [sentence for scene in scenes for sentence in scene.split('\\n')]\n",
    "print('Number of lines: {}'.format(len(sentences)))\n",
    "word_count_sentence = [len(sentence.split()) for sentence in sentences]\n",
    "print('Average number of words in each line: {}'.format(np.average(word_count_sentence)))\n",
    "\n",
    "print()\n",
    "print('The sentences {} to {}:'.format(*view_sentence_range))\n",
    "print('\\n'.join(text.split('\\n')[view_sentence_range[0]:view_sentence_range[1]]))"
   ]
  },
  {
   "cell_type": "markdown",
   "metadata": {},
   "source": [
    "## Implement Preprocessing Functions\n",
    "The first thing to do to any dataset is preprocessing.  Implement the following preprocessing functions below:\n",
    "- Lookup Table\n",
    "- Tokenize Punctuation\n",
    "\n",
    "### Lookup Table\n",
    "To create a word embedding, you first need to transform the words to ids.  In this function, create two dictionaries:\n",
    "- Dictionary to go from the words to an id, we'll call `vocab_to_int`\n",
    "- Dictionary to go from the id to word, we'll call `int_to_vocab`\n",
    "\n",
    "Return these dictionaries in the following tuple `(vocab_to_int, int_to_vocab)`"
   ]
  },
  {
   "cell_type": "code",
   "execution_count": 3,
   "metadata": {},
   "outputs": [
    {
     "name": "stdout",
     "output_type": "stream",
     "text": [
      "Tests Passed\n"
     ]
    }
   ],
   "source": [
    "import numpy as np\n",
    "import problem_unittests as tests\n",
    "\n",
    "def create_lookup_tables(text):\n",
    "    \"\"\"\n",
    "    Create lookup tables for vocabulary\n",
    "    :param text: The text of tv scripts split into words\n",
    "    :return: A tuple of dicts (vocab_to_int, int_to_vocab)\n",
    "    \"\"\"\n",
    "    dictionary = set(text)\n",
    "    vocab_to_int = {word: i for i, word in enumerate(dictionary)}\n",
    "    int_to_vocab = {i: word for i, word in enumerate(dictionary)}\n",
    "    return vocab_to_int, int_to_vocab\n",
    "\n",
    "\n",
    "\"\"\"\n",
    "DON'T MODIFY ANYTHING IN THIS CELL THAT IS BELOW THIS LINE\n",
    "\"\"\"\n",
    "tests.test_create_lookup_tables(create_lookup_tables)"
   ]
  },
  {
   "cell_type": "markdown",
   "metadata": {},
   "source": [
    "### Tokenize Punctuation\n",
    "We'll be splitting the script into a word array using spaces as delimiters.  However, punctuations like periods and exclamation marks make it hard for the neural network to distinguish between the word \"bye\" and \"bye!\".\n",
    "\n",
    "Implement the function `token_lookup` to return a dict that will be used to tokenize symbols like \"!\" into \"||Exclamation_Mark||\".  Create a dictionary for the following symbols where the symbol is the key and value is the token:\n",
    "- Period ( . )\n",
    "- Comma ( , )\n",
    "- Quotation Mark ( \" )\n",
    "- Semicolon ( ; )\n",
    "- Exclamation mark ( ! )\n",
    "- Question mark ( ? )\n",
    "- Left Parentheses ( ( )\n",
    "- Right Parentheses ( ) )\n",
    "- Dash ( -- )\n",
    "- Return ( \\n )\n",
    "\n",
    "This dictionary will be used to token the symbols and add the delimiter (space) around it.  This separates the symbols as it's own word, making it easier for the neural network to predict on the next word. Make sure you don't use a token that could be confused as a word. Instead of using the token \"dash\", try using something like \"||dash||\"."
   ]
  },
  {
   "cell_type": "code",
   "execution_count": 4,
   "metadata": {},
   "outputs": [
    {
     "name": "stdout",
     "output_type": "stream",
     "text": [
      "Tests Passed\n"
     ]
    }
   ],
   "source": [
    "def token_lookup():\n",
    "    \"\"\"\n",
    "    Generate a dict to turn punctuation into a token.\n",
    "    :return: Tokenize dictionary where the key is the punctuation and the value is the token\n",
    "    \"\"\"\n",
    "    Tokenization = {\n",
    "        '.':'||Dot||',\n",
    "        ',':'||Comma||',\n",
    "        '\"':'||Quotation_Mark||',\n",
    "        ';':'||Semicolon||',\n",
    "        '!':'||Exclamation_mark||',\n",
    "        '?':'||Question_mark||',\n",
    "        '(':'||Left_Parantheses||',\n",
    "        ')':'||Right_Parantheses||',\n",
    "        '--':'||Dash||',\n",
    "        '\\n':'||Return'\n",
    "        \n",
    "        \n",
    "        \n",
    "        }\n",
    "    return Tokenization\n",
    "\n",
    "\"\"\"\n",
    "DON'T MODIFY ANYTHING IN THIS CELL THAT IS BELOW THIS LINE\n",
    "\"\"\"\n",
    "tests.test_tokenize(token_lookup)"
   ]
  },
  {
   "cell_type": "markdown",
   "metadata": {},
   "source": [
    "## Preprocess all the data and save it\n",
    "Running the code cell below will preprocess all the data and save it to file."
   ]
  },
  {
   "cell_type": "code",
   "execution_count": 5,
   "metadata": {},
   "outputs": [],
   "source": [
    "\"\"\"\n",
    "DON'T MODIFY ANYTHING IN THIS CELL\n",
    "\"\"\"\n",
    "# Preprocess Training, Validation, and Testing Data\n",
    "helper.preprocess_and_save_data(data_dir, token_lookup, create_lookup_tables)"
   ]
  },
  {
   "cell_type": "markdown",
   "metadata": {},
   "source": [
    "# Check Point\n",
    "This is your first checkpoint. If you ever decide to come back to this notebook or have to restart the notebook, you can start from here. The preprocessed data has been saved to disk."
   ]
  },
  {
   "cell_type": "code",
   "execution_count": 6,
   "metadata": {},
   "outputs": [],
   "source": [
    "\"\"\"\n",
    "DON'T MODIFY ANYTHING IN THIS CELL\n",
    "\"\"\"\n",
    "import helper\n",
    "import numpy as np\n",
    "import problem_unittests as tests\n",
    "\n",
    "int_text, vocab_to_int, int_to_vocab, token_dict = helper.load_preprocess()"
   ]
  },
  {
   "cell_type": "markdown",
   "metadata": {},
   "source": [
    "## Build the Neural Network\n",
    "You'll build the components necessary to build a RNN by implementing the following functions below:\n",
    "- get_inputs\n",
    "- get_init_cell\n",
    "- get_embed\n",
    "- build_rnn\n",
    "- build_nn\n",
    "- get_batches\n",
    "\n",
    "### Check the Version of TensorFlow and Access to GPU"
   ]
  },
  {
   "cell_type": "code",
   "execution_count": 7,
   "metadata": {},
   "outputs": [
    {
     "name": "stdout",
     "output_type": "stream",
     "text": [
      "TensorFlow Version: 1.0.0\n",
      "Default GPU Device: /gpu:0\n"
     ]
    }
   ],
   "source": [
    "\"\"\"\n",
    "DON'T MODIFY ANYTHING IN THIS CELL\n",
    "\"\"\"\n",
    "from distutils.version import LooseVersion\n",
    "import warnings\n",
    "import tensorflow as tf\n",
    "\n",
    "# Check TensorFlow Version\n",
    "assert LooseVersion(tf.__version__) >= LooseVersion('1.0'), 'Please use TensorFlow version 1.0 or newer'\n",
    "print('TensorFlow Version: {}'.format(tf.__version__))\n",
    "\n",
    "# Check for a GPU\n",
    "if not tf.test.gpu_device_name():\n",
    "    warnings.warn('No GPU found. Please use a GPU to train your neural network.')\n",
    "else:\n",
    "    print('Default GPU Device: {}'.format(tf.test.gpu_device_name()))"
   ]
  },
  {
   "cell_type": "markdown",
   "metadata": {},
   "source": [
    "### Input\n",
    "Implement the `get_inputs()` function to create TF Placeholders for the Neural Network.  It should create the following placeholders:\n",
    "- Input text placeholder named \"input\" using the [TF Placeholder](https://www.tensorflow.org/api_docs/python/tf/placeholder) `name` parameter.\n",
    "- Targets placeholder\n",
    "- Learning Rate placeholder\n",
    "\n",
    "Return the placeholders in the following tuple `(Input, Targets, LearningRate)`"
   ]
  },
  {
   "cell_type": "code",
   "execution_count": 8,
   "metadata": {},
   "outputs": [
    {
     "name": "stdout",
     "output_type": "stream",
     "text": [
      "Tests Passed\n"
     ]
    }
   ],
   "source": [
    "def get_inputs():\n",
    "    \"\"\"\n",
    "    Create TF Placeholders for input, targets, and learning rate.\n",
    "    :return: Tuple (input, targets, learning rate)\n",
    "    \"\"\"\n",
    "    inputs = tf.placeholder(tf.int32, [None,None], name=\"input\")\n",
    "    targets = tf.placeholder(tf.int32, [None,None], name=\"targets\")\n",
    "    learning_rate = tf.placeholder(tf.float32, name=\"learning_rate\")\n",
    "    \n",
    "    return (inputs, targets, learning_rate)\n",
    "\n",
    "\n",
    "\"\"\"\n",
    "DON'T MODIFY ANYTHING IN THIS CELL THAT IS BELOW THIS LINE\n",
    "\"\"\"\n",
    "tests.test_get_inputs(get_inputs)"
   ]
  },
  {
   "cell_type": "markdown",
   "metadata": {},
   "source": [
    "### Build RNN Cell and Initialize\n",
    "Stack one or more [`BasicLSTMCells`](https://www.tensorflow.org/api_docs/python/tf/contrib/rnn/BasicLSTMCell) in a [`MultiRNNCell`](https://www.tensorflow.org/api_docs/python/tf/contrib/rnn/MultiRNNCell).\n",
    "- The Rnn size should be set using `rnn_size`\n",
    "- Initalize Cell State using the MultiRNNCell's [`zero_state()`](https://www.tensorflow.org/api_docs/python/tf/contrib/rnn/MultiRNNCell#zero_state) function\n",
    "    - Apply the name \"initial_state\" to the initial state using [`tf.identity()`](https://www.tensorflow.org/api_docs/python/tf/identity)\n",
    "\n",
    "Return the cell and initial state in the following tuple `(Cell, InitialState)`"
   ]
  },
  {
   "cell_type": "code",
   "execution_count": 9,
   "metadata": {},
   "outputs": [
    {
     "name": "stdout",
     "output_type": "stream",
     "text": [
      "Tests Passed\n"
     ]
    }
   ],
   "source": [
    "def get_init_cell(batch_size, rnn_size):\n",
    "    \"\"\"\n",
    "    Create an RNN Cell and initialize it.\n",
    "    :param batch_size: Size of batches\n",
    "    :param rnn_size: Size of RNNs\n",
    "    :return: Tuple (cell, initialize state)\n",
    "    \"\"\"\n",
    "    lstm = tf.contrib.rnn.BasicLSTMCell(rnn_size)\n",
    "    Cell = tf.contrib.rnn.MultiRNNCell([lstm])\n",
    "    InitialState = Cell.zero_state(batch_size, tf.float32)\n",
    "    InitialState = tf.identity(InitialState, name='initial_state')\n",
    "    return (Cell, InitialState)\n",
    "\n",
    "\n",
    "\"\"\"\n",
    "DON'T MODIFY ANYTHING IN THIS CELL THAT IS BELOW THIS LINE\n",
    "\"\"\"\n",
    "tests.test_get_init_cell(get_init_cell)"
   ]
  },
  {
   "cell_type": "markdown",
   "metadata": {},
   "source": [
    "### Word Embedding\n",
    "Apply embedding to `input_data` using TensorFlow.  Return the embedded sequence."
   ]
  },
  {
   "cell_type": "code",
   "execution_count": 10,
   "metadata": {},
   "outputs": [
    {
     "name": "stdout",
     "output_type": "stream",
     "text": [
      "Tests Passed\n"
     ]
    }
   ],
   "source": [
    "def get_embed(input_data, vocab_size, embed_dim):\n",
    "    \"\"\"\n",
    "    Create embedding for <input_data>.\n",
    "    :param input_data: TF placeholder for text input.\n",
    "    :param vocab_size: Number of words in vocabulary.\n",
    "    :param embed_dim: Number of embedding dimensions\n",
    "    :return: Embedded input.\n",
    "    \"\"\"\n",
    "    embedding = tf.Variable(tf.random_uniform((vocab_size, embed_dim), -1, 1))\n",
    "    lookup = tf.nn.embedding_lookup(embedding, input_data)\n",
    "    return lookup\n",
    "\n",
    "\n",
    "\"\"\"\n",
    "DON'T MODIFY ANYTHING IN THIS CELL THAT IS BELOW THIS LINE\n",
    "\"\"\"\n",
    "tests.test_get_embed(get_embed)"
   ]
  },
  {
   "cell_type": "markdown",
   "metadata": {},
   "source": [
    "### Build RNN\n",
    "You created a RNN Cell in the `get_init_cell()` function.  Time to use the cell to create a RNN.\n",
    "- Build the RNN using the [`tf.nn.dynamic_rnn()`](https://www.tensorflow.org/api_docs/python/tf/nn/dynamic_rnn)\n",
    " - Apply the name \"final_state\" to the final state using [`tf.identity()`](https://www.tensorflow.org/api_docs/python/tf/identity)\n",
    "\n",
    "Return the outputs and final_state state in the following tuple `(Outputs, FinalState)` "
   ]
  },
  {
   "cell_type": "code",
   "execution_count": 11,
   "metadata": {},
   "outputs": [
    {
     "name": "stdout",
     "output_type": "stream",
     "text": [
      "Tests Passed\n"
     ]
    }
   ],
   "source": [
    "def build_rnn(cell, inputs):\n",
    "    \"\"\"\n",
    "    Create a RNN using a RNN Cell\n",
    "    :param cell: RNN Cell\n",
    "    :param inputs: Input text data\n",
    "    :return: Tuple (Outputs, Final State)\n",
    "    \"\"\"\n",
    "    outputs, state1 = tf.nn.dynamic_rnn(cell, inputs,dtype=tf.float32)\n",
    "    FinalState = tf.identity(state1, name=\"final_state\")\n",
    "    return (outputs, FinalState)\n",
    "\n",
    "\n",
    "\"\"\"\n",
    "DON'T MODIFY ANYTHING IN THIS CELL THAT IS BELOW THIS LINE\n",
    "\"\"\"\n",
    "tests.test_build_rnn(build_rnn)"
   ]
  },
  {
   "cell_type": "markdown",
   "metadata": {},
   "source": [
    "### Build the Neural Network\n",
    "Apply the functions you implemented above to:\n",
    "- Apply embedding to `input_data` using your `get_embed(input_data, vocab_size, embed_dim)` function.\n",
    "- Build RNN using `cell` and your `build_rnn(cell, inputs)` function.\n",
    "- Apply a fully connected layer with a linear activation and `vocab_size` as the number of outputs.\n",
    "\n",
    "Return the logits and final state in the following tuple (Logits, FinalState) "
   ]
  },
  {
   "cell_type": "code",
   "execution_count": 12,
   "metadata": {},
   "outputs": [
    {
     "name": "stdout",
     "output_type": "stream",
     "text": [
      "Tests Passed\n"
     ]
    }
   ],
   "source": [
    "def build_nn(cell, rnn_size, input_data, vocab_size, embed_dim):\n",
    "    \"\"\"\n",
    "    Build part of the neural network\n",
    "    :param cell: RNN cell\n",
    "    :param rnn_size: Size of rnns\n",
    "    :param input_data: Input data\n",
    "    :param vocab_size: Vocabulary size\n",
    "    :param embed_dim: Number of embedding dimensions\n",
    "    :return: Tuple (Logits, FinalState)\n",
    "    \"\"\"\n",
    "    embedding = get_embed(input_data, vocab_size, rnn_size)\n",
    "    outputs, FinalState = build_rnn(cell, embedding)\n",
    "    Logits = tf.contrib.layers.fully_connected(outputs, vocab_size, activation_fn=None)\n",
    "    return (Logits, FinalState)\n",
    "\n",
    "\n",
    "\"\"\"\n",
    "DON'T MODIFY ANYTHING IN THIS CELL THAT IS BELOW THIS LINE\n",
    "\"\"\"\n",
    "tests.test_build_nn(build_nn)"
   ]
  },
  {
   "cell_type": "markdown",
   "metadata": {},
   "source": [
    "### Batches\n",
    "Implement `get_batches` to create batches of input and targets using `int_text`.  The batches should be a Numpy array with the shape `(number of batches, 2, batch size, sequence length)`. Each batch contains two elements:\n",
    "- The first element is a single batch of **input** with the shape `[batch size, sequence length]`\n",
    "- The second element is a single batch of **targets** with the shape `[batch size, sequence length]`\n",
    "\n",
    "If you can't fill the last batch with enough data, drop the last batch.\n",
    "\n",
    "For example, `get_batches([1, 2, 3, 4, 5, 6, 7, 8, 9, 10, 11, 12, 13, 14, 15, 16, 17, 18, 19, 20], 3, 2)` would return a Numpy array of the following:\n",
    "```\n",
    "[\n",
    "  # First Batch\n",
    "  [\n",
    "    # Batch of Input\n",
    "    [[ 1  2], [ 7  8], [13 14]]\n",
    "    # Batch of targets\n",
    "    [[ 2  3], [ 8  9], [14 15]]\n",
    "  ]\n",
    "\n",
    "  # Second Batch\n",
    "  [\n",
    "    # Batch of Input\n",
    "    [[ 3  4], [ 9 10], [15 16]]\n",
    "    # Batch of targets\n",
    "    [[ 4  5], [10 11], [16 17]]\n",
    "  ]\n",
    "\n",
    "  # Third Batch\n",
    "  [\n",
    "    # Batch of Input\n",
    "    [[ 5  6], [11 12], [17 18]]\n",
    "    # Batch of targets\n",
    "    [[ 6  7], [12 13], [18  1]]\n",
    "  ]\n",
    "]\n",
    "```\n",
    "\n",
    "Notice that the last target value in the last batch is the first input value of the first batch. In this case, `1`. This is a common technique used when creating sequence batches, although it is rather unintuitive."
   ]
  },
  {
   "cell_type": "code",
   "execution_count": 13,
   "metadata": {},
   "outputs": [
    {
     "name": "stdout",
     "output_type": "stream",
     "text": [
      "Tests Passed\n"
     ]
    }
   ],
   "source": [
    "def get_batches(int_text, batch_size, seq_length):\n",
    "    \"\"\"\n",
    "    Return batches of input and target\n",
    "    :param int_text: Text with the words replaced by their ids\n",
    "    :param batch_size: The size of batch\n",
    "    :param seq_length: The length of sequence\n",
    "    :return: Batches as a Numpy array\n",
    "    \"\"\"\n",
    "    no_batches = len(int_text)//(batch_size*seq_length)\n",
    "    x_var = np.array(int_text[:batch_size*seq_length*no_batches])\n",
    "    y_var = np.array(int_text[1:batch_size*seq_length*no_batches+1])\n",
    "    y_var[-1] = x_var[0]\n",
    "    xs = np.split(x_var.reshape(batch_size, -1), no_batches, 1)\n",
    "    ys = np.split(y_var.reshape(batch_size, -1), no_batches, 1)\n",
    "    \n",
    "    array = np.array(list(zip(xs, ys)))\n",
    "    array = array.reshape(no_batches, 2, batch_size, seq_length)\n",
    "    \n",
    "    return array\n",
    "\n",
    "\n",
    "\n",
    "\"\"\"\n",
    "DON'T MODIFY ANYTHING IN THIS CELL THAT IS BELOW THIS LINE\n",
    "\"\"\"\n",
    "tests.test_get_batches(get_batches)"
   ]
  },
  {
   "cell_type": "markdown",
   "metadata": {},
   "source": [
    "## Neural Network Training\n",
    "### Hyperparameters\n",
    "Tune the following parameters:\n",
    "\n",
    "- Set `num_epochs` to the number of epochs.\n",
    "- Set `batch_size` to the batch size.\n",
    "- Set `rnn_size` to the size of the RNNs.\n",
    "- Set `embed_dim` to the size of the embedding.\n",
    "- Set `seq_length` to the length of sequence.\n",
    "- Set `learning_rate` to the learning rate.\n",
    "- Set `show_every_n_batches` to the number of batches the neural network should print progress."
   ]
  },
  {
   "cell_type": "code",
   "execution_count": 14,
   "metadata": {},
   "outputs": [],
   "source": [
    "# Number of Epochs\n",
    "num_epochs = 100\n",
    "# Batch Size\n",
    "batch_size = 128\n",
    "# RNN Size\n",
    "rnn_size = 128\n",
    "# Embedding Dimension Size\n",
    "embed_dim = 200\n",
    "# Sequence Length\n",
    "seq_length = 12\n",
    "# Learning Rate\n",
    "learning_rate = 0.01\n",
    "# Show stats for every n number of batches\n",
    "show_every_n_batches = 15\n",
    "\n",
    "\"\"\"\n",
    "DON'T MODIFY ANYTHING IN THIS CELL THAT IS BELOW THIS LINE\n",
    "\"\"\"\n",
    "save_dir = './save'"
   ]
  },
  {
   "cell_type": "markdown",
   "metadata": {},
   "source": [
    "### Build the Graph\n",
    "Build the graph using the neural network you implemented."
   ]
  },
  {
   "cell_type": "code",
   "execution_count": 15,
   "metadata": {},
   "outputs": [],
   "source": [
    "\"\"\"\n",
    "DON'T MODIFY ANYTHING IN THIS CELL\n",
    "\"\"\"\n",
    "from tensorflow.contrib import seq2seq\n",
    "\n",
    "train_graph = tf.Graph()\n",
    "with train_graph.as_default():\n",
    "    vocab_size = len(int_to_vocab)\n",
    "    input_text, targets, lr = get_inputs()\n",
    "    input_data_shape = tf.shape(input_text)\n",
    "    cell, initial_state = get_init_cell(input_data_shape[0], rnn_size)\n",
    "    logits, final_state = build_nn(cell, rnn_size, input_text, vocab_size, embed_dim)\n",
    "\n",
    "    # Probabilities for generating words\n",
    "    probs = tf.nn.softmax(logits, name='probs')\n",
    "\n",
    "    # Loss function\n",
    "    cost = seq2seq.sequence_loss(\n",
    "        logits,\n",
    "        targets,\n",
    "        tf.ones([input_data_shape[0], input_data_shape[1]]))\n",
    "\n",
    "    # Optimizer\n",
    "    optimizer = tf.train.AdamOptimizer(lr)\n",
    "\n",
    "    # Gradient Clipping\n",
    "    gradients = optimizer.compute_gradients(cost)\n",
    "    capped_gradients = [(tf.clip_by_value(grad, -1., 1.), var) for grad, var in gradients if grad is not None]\n",
    "    train_op = optimizer.apply_gradients(capped_gradients)"
   ]
  },
  {
   "cell_type": "markdown",
   "metadata": {},
   "source": [
    "## Train\n",
    "Train the neural network on the preprocessed data.  If you have a hard time getting a good loss, check the [forums](https://discussions.udacity.com/) to see if anyone is having the same problem."
   ]
  },
  {
   "cell_type": "code",
   "execution_count": 16,
   "metadata": {},
   "outputs": [
    {
     "name": "stdout",
     "output_type": "stream",
     "text": [
      "Epoch   0 Batch    0/44   train_loss = 8.821\n",
      "Epoch   0 Batch   15/44   train_loss = 6.266\n",
      "Epoch   0 Batch   30/44   train_loss = 5.943\n",
      "Epoch   1 Batch    1/44   train_loss = 5.317\n",
      "Epoch   1 Batch   16/44   train_loss = 5.241\n",
      "Epoch   1 Batch   31/44   train_loss = 5.105\n",
      "Epoch   2 Batch    2/44   train_loss = 4.643\n",
      "Epoch   2 Batch   17/44   train_loss = 4.719\n",
      "Epoch   2 Batch   32/44   train_loss = 4.578\n",
      "Epoch   3 Batch    3/44   train_loss = 4.408\n",
      "Epoch   3 Batch   18/44   train_loss = 4.437\n",
      "Epoch   3 Batch   33/44   train_loss = 4.440\n",
      "Epoch   4 Batch    4/44   train_loss = 4.120\n",
      "Epoch   4 Batch   19/44   train_loss = 4.151\n",
      "Epoch   4 Batch   34/44   train_loss = 4.034\n",
      "Epoch   5 Batch    5/44   train_loss = 3.913\n",
      "Epoch   5 Batch   20/44   train_loss = 3.819\n",
      "Epoch   5 Batch   35/44   train_loss = 3.715\n",
      "Epoch   6 Batch    6/44   train_loss = 3.715\n",
      "Epoch   6 Batch   21/44   train_loss = 3.517\n",
      "Epoch   6 Batch   36/44   train_loss = 3.702\n",
      "Epoch   7 Batch    7/44   train_loss = 3.702\n",
      "Epoch   7 Batch   22/44   train_loss = 3.469\n",
      "Epoch   7 Batch   37/44   train_loss = 3.431\n",
      "Epoch   8 Batch    8/44   train_loss = 3.417\n",
      "Epoch   8 Batch   23/44   train_loss = 3.285\n",
      "Epoch   8 Batch   38/44   train_loss = 3.135\n",
      "Epoch   9 Batch    9/44   train_loss = 3.194\n",
      "Epoch   9 Batch   24/44   train_loss = 3.140\n",
      "Epoch   9 Batch   39/44   train_loss = 3.036\n",
      "Epoch  10 Batch   10/44   train_loss = 3.087\n",
      "Epoch  10 Batch   25/44   train_loss = 2.966\n",
      "Epoch  10 Batch   40/44   train_loss = 2.970\n",
      "Epoch  11 Batch   11/44   train_loss = 2.911\n",
      "Epoch  11 Batch   26/44   train_loss = 2.865\n",
      "Epoch  11 Batch   41/44   train_loss = 2.863\n",
      "Epoch  12 Batch   12/44   train_loss = 2.887\n",
      "Epoch  12 Batch   27/44   train_loss = 2.862\n",
      "Epoch  12 Batch   42/44   train_loss = 2.758\n",
      "Epoch  13 Batch   13/44   train_loss = 2.766\n",
      "Epoch  13 Batch   28/44   train_loss = 2.683\n",
      "Epoch  13 Batch   43/44   train_loss = 2.661\n",
      "Epoch  14 Batch   14/44   train_loss = 2.573\n",
      "Epoch  14 Batch   29/44   train_loss = 2.587\n",
      "Epoch  15 Batch    0/44   train_loss = 2.539\n",
      "Epoch  15 Batch   15/44   train_loss = 2.546\n",
      "Epoch  15 Batch   30/44   train_loss = 2.514\n",
      "Epoch  16 Batch    1/44   train_loss = 2.413\n",
      "Epoch  16 Batch   16/44   train_loss = 2.521\n",
      "Epoch  16 Batch   31/44   train_loss = 2.440\n",
      "Epoch  17 Batch    2/44   train_loss = 2.449\n",
      "Epoch  17 Batch   17/44   train_loss = 2.332\n",
      "Epoch  17 Batch   32/44   train_loss = 2.354\n",
      "Epoch  18 Batch    3/44   train_loss = 2.315\n",
      "Epoch  18 Batch   18/44   train_loss = 2.351\n",
      "Epoch  18 Batch   33/44   train_loss = 2.251\n",
      "Epoch  19 Batch    4/44   train_loss = 2.260\n",
      "Epoch  19 Batch   19/44   train_loss = 2.134\n",
      "Epoch  19 Batch   34/44   train_loss = 2.096\n",
      "Epoch  20 Batch    5/44   train_loss = 2.180\n",
      "Epoch  20 Batch   20/44   train_loss = 2.116\n",
      "Epoch  20 Batch   35/44   train_loss = 2.090\n",
      "Epoch  21 Batch    6/44   train_loss = 2.116\n",
      "Epoch  21 Batch   21/44   train_loss = 2.070\n",
      "Epoch  21 Batch   36/44   train_loss = 2.136\n",
      "Epoch  22 Batch    7/44   train_loss = 2.090\n",
      "Epoch  22 Batch   22/44   train_loss = 2.031\n",
      "Epoch  22 Batch   37/44   train_loss = 1.994\n",
      "Epoch  23 Batch    8/44   train_loss = 1.963\n",
      "Epoch  23 Batch   23/44   train_loss = 1.913\n",
      "Epoch  23 Batch   38/44   train_loss = 1.950\n",
      "Epoch  24 Batch    9/44   train_loss = 1.890\n",
      "Epoch  24 Batch   24/44   train_loss = 1.862\n",
      "Epoch  24 Batch   39/44   train_loss = 1.793\n",
      "Epoch  25 Batch   10/44   train_loss = 1.838\n",
      "Epoch  25 Batch   25/44   train_loss = 1.777\n",
      "Epoch  25 Batch   40/44   train_loss = 1.845\n",
      "Epoch  26 Batch   11/44   train_loss = 1.783\n",
      "Epoch  26 Batch   26/44   train_loss = 1.800\n",
      "Epoch  26 Batch   41/44   train_loss = 1.784\n",
      "Epoch  27 Batch   12/44   train_loss = 1.854\n",
      "Epoch  27 Batch   27/44   train_loss = 1.819\n",
      "Epoch  27 Batch   42/44   train_loss = 1.717\n",
      "Epoch  28 Batch   13/44   train_loss = 1.753\n",
      "Epoch  28 Batch   28/44   train_loss = 1.661\n",
      "Epoch  28 Batch   43/44   train_loss = 1.618\n",
      "Epoch  29 Batch   14/44   train_loss = 1.565\n",
      "Epoch  29 Batch   29/44   train_loss = 1.568\n",
      "Epoch  30 Batch    0/44   train_loss = 1.636\n",
      "Epoch  30 Batch   15/44   train_loss = 1.670\n",
      "Epoch  30 Batch   30/44   train_loss = 1.543\n",
      "Epoch  31 Batch    1/44   train_loss = 1.565\n",
      "Epoch  31 Batch   16/44   train_loss = 1.613\n",
      "Epoch  31 Batch   31/44   train_loss = 1.564\n",
      "Epoch  32 Batch    2/44   train_loss = 1.617\n",
      "Epoch  32 Batch   17/44   train_loss = 1.554\n",
      "Epoch  32 Batch   32/44   train_loss = 1.611\n",
      "Epoch  33 Batch    3/44   train_loss = 1.533\n",
      "Epoch  33 Batch   18/44   train_loss = 1.589\n",
      "Epoch  33 Batch   33/44   train_loss = 1.479\n",
      "Epoch  34 Batch    4/44   train_loss = 1.514\n",
      "Epoch  34 Batch   19/44   train_loss = 1.333\n",
      "Epoch  34 Batch   34/44   train_loss = 1.389\n",
      "Epoch  35 Batch    5/44   train_loss = 1.463\n",
      "Epoch  35 Batch   20/44   train_loss = 1.428\n",
      "Epoch  35 Batch   35/44   train_loss = 1.430\n",
      "Epoch  36 Batch    6/44   train_loss = 1.377\n",
      "Epoch  36 Batch   21/44   train_loss = 1.349\n",
      "Epoch  36 Batch   36/44   train_loss = 1.410\n",
      "Epoch  37 Batch    7/44   train_loss = 1.357\n",
      "Epoch  37 Batch   22/44   train_loss = 1.402\n",
      "Epoch  37 Batch   37/44   train_loss = 1.308\n",
      "Epoch  38 Batch    8/44   train_loss = 1.278\n",
      "Epoch  38 Batch   23/44   train_loss = 1.273\n",
      "Epoch  38 Batch   38/44   train_loss = 1.296\n",
      "Epoch  39 Batch    9/44   train_loss = 1.234\n",
      "Epoch  39 Batch   24/44   train_loss = 1.241\n",
      "Epoch  39 Batch   39/44   train_loss = 1.238\n",
      "Epoch  40 Batch   10/44   train_loss = 1.226\n",
      "Epoch  40 Batch   25/44   train_loss = 1.167\n",
      "Epoch  40 Batch   40/44   train_loss = 1.234\n",
      "Epoch  41 Batch   11/44   train_loss = 1.207\n",
      "Epoch  41 Batch   26/44   train_loss = 1.232\n",
      "Epoch  41 Batch   41/44   train_loss = 1.208\n",
      "Epoch  42 Batch   12/44   train_loss = 1.287\n",
      "Epoch  42 Batch   27/44   train_loss = 1.219\n",
      "Epoch  42 Batch   42/44   train_loss = 1.195\n",
      "Epoch  43 Batch   13/44   train_loss = 1.180\n",
      "Epoch  43 Batch   28/44   train_loss = 1.121\n",
      "Epoch  43 Batch   43/44   train_loss = 1.082\n",
      "Epoch  44 Batch   14/44   train_loss = 1.085\n",
      "Epoch  44 Batch   29/44   train_loss = 1.065\n",
      "Epoch  45 Batch    0/44   train_loss = 1.168\n",
      "Epoch  45 Batch   15/44   train_loss = 1.180\n",
      "Epoch  45 Batch   30/44   train_loss = 1.073\n",
      "Epoch  46 Batch    1/44   train_loss = 1.105\n",
      "Epoch  46 Batch   16/44   train_loss = 1.132\n",
      "Epoch  46 Batch   31/44   train_loss = 1.087\n",
      "Epoch  47 Batch    2/44   train_loss = 1.170\n",
      "Epoch  47 Batch   17/44   train_loss = 1.058\n",
      "Epoch  47 Batch   32/44   train_loss = 1.123\n",
      "Epoch  48 Batch    3/44   train_loss = 1.123\n",
      "Epoch  48 Batch   18/44   train_loss = 1.118\n",
      "Epoch  48 Batch   33/44   train_loss = 1.016\n",
      "Epoch  49 Batch    4/44   train_loss = 1.100\n",
      "Epoch  49 Batch   19/44   train_loss = 0.946\n",
      "Epoch  49 Batch   34/44   train_loss = 1.023\n",
      "Epoch  50 Batch    5/44   train_loss = 1.036\n",
      "Epoch  50 Batch   20/44   train_loss = 0.996\n",
      "Epoch  50 Batch   35/44   train_loss = 1.048\n",
      "Epoch  51 Batch    6/44   train_loss = 1.006\n",
      "Epoch  51 Batch   21/44   train_loss = 0.963\n",
      "Epoch  51 Batch   36/44   train_loss = 1.089\n",
      "Epoch  52 Batch    7/44   train_loss = 0.991\n",
      "Epoch  52 Batch   22/44   train_loss = 1.066\n",
      "Epoch  52 Batch   37/44   train_loss = 0.991\n",
      "Epoch  53 Batch    8/44   train_loss = 0.973\n",
      "Epoch  53 Batch   23/44   train_loss = 0.993\n",
      "Epoch  53 Batch   38/44   train_loss = 1.025\n",
      "Epoch  54 Batch    9/44   train_loss = 0.926\n",
      "Epoch  54 Batch   24/44   train_loss = 0.977\n",
      "Epoch  54 Batch   39/44   train_loss = 0.997\n",
      "Epoch  55 Batch   10/44   train_loss = 0.938\n",
      "Epoch  55 Batch   25/44   train_loss = 0.926\n",
      "Epoch  55 Batch   40/44   train_loss = 0.978\n",
      "Epoch  56 Batch   11/44   train_loss = 0.899\n",
      "Epoch  56 Batch   26/44   train_loss = 1.002\n",
      "Epoch  56 Batch   41/44   train_loss = 0.963\n",
      "Epoch  57 Batch   12/44   train_loss = 0.997\n",
      "Epoch  57 Batch   27/44   train_loss = 0.980\n",
      "Epoch  57 Batch   42/44   train_loss = 0.915\n",
      "Epoch  58 Batch   13/44   train_loss = 0.921\n",
      "Epoch  58 Batch   28/44   train_loss = 0.916\n",
      "Epoch  58 Batch   43/44   train_loss = 0.861\n",
      "Epoch  59 Batch   14/44   train_loss = 0.827\n",
      "Epoch  59 Batch   29/44   train_loss = 0.873\n",
      "Epoch  60 Batch    0/44   train_loss = 0.945\n",
      "Epoch  60 Batch   15/44   train_loss = 0.919\n",
      "Epoch  60 Batch   30/44   train_loss = 0.875\n",
      "Epoch  61 Batch    1/44   train_loss = 0.865\n",
      "Epoch  61 Batch   16/44   train_loss = 0.881\n",
      "Epoch  61 Batch   31/44   train_loss = 0.846\n",
      "Epoch  62 Batch    2/44   train_loss = 0.934\n"
     ]
    },
    {
     "name": "stdout",
     "output_type": "stream",
     "text": [
      "Epoch  62 Batch   17/44   train_loss = 0.818\n",
      "Epoch  62 Batch   32/44   train_loss = 0.914\n",
      "Epoch  63 Batch    3/44   train_loss = 0.867\n",
      "Epoch  63 Batch   18/44   train_loss = 0.856\n",
      "Epoch  63 Batch   33/44   train_loss = 0.800\n",
      "Epoch  64 Batch    4/44   train_loss = 0.879\n",
      "Epoch  64 Batch   19/44   train_loss = 0.796\n",
      "Epoch  64 Batch   34/44   train_loss = 0.803\n",
      "Epoch  65 Batch    5/44   train_loss = 0.866\n",
      "Epoch  65 Batch   20/44   train_loss = 0.814\n",
      "Epoch  65 Batch   35/44   train_loss = 0.828\n",
      "Epoch  66 Batch    6/44   train_loss = 0.834\n",
      "Epoch  66 Batch   21/44   train_loss = 0.777\n",
      "Epoch  66 Batch   36/44   train_loss = 0.875\n",
      "Epoch  67 Batch    7/44   train_loss = 0.810\n",
      "Epoch  67 Batch   22/44   train_loss = 0.834\n",
      "Epoch  67 Batch   37/44   train_loss = 0.787\n",
      "Epoch  68 Batch    8/44   train_loss = 0.757\n",
      "Epoch  68 Batch   23/44   train_loss = 0.785\n",
      "Epoch  68 Batch   38/44   train_loss = 0.826\n",
      "Epoch  69 Batch    9/44   train_loss = 0.760\n",
      "Epoch  69 Batch   24/44   train_loss = 0.779\n",
      "Epoch  69 Batch   39/44   train_loss = 0.801\n",
      "Epoch  70 Batch   10/44   train_loss = 0.764\n",
      "Epoch  70 Batch   25/44   train_loss = 0.749\n",
      "Epoch  70 Batch   40/44   train_loss = 0.802\n",
      "Epoch  71 Batch   11/44   train_loss = 0.750\n",
      "Epoch  71 Batch   26/44   train_loss = 0.814\n",
      "Epoch  71 Batch   41/44   train_loss = 0.805\n",
      "Epoch  72 Batch   12/44   train_loss = 0.850\n",
      "Epoch  72 Batch   27/44   train_loss = 0.767\n",
      "Epoch  72 Batch   42/44   train_loss = 0.798\n",
      "Epoch  73 Batch   13/44   train_loss = 0.782\n",
      "Epoch  73 Batch   28/44   train_loss = 0.774\n",
      "Epoch  73 Batch   43/44   train_loss = 0.726\n",
      "Epoch  74 Batch   14/44   train_loss = 0.721\n",
      "Epoch  74 Batch   29/44   train_loss = 0.734\n",
      "Epoch  75 Batch    0/44   train_loss = 0.792\n",
      "Epoch  75 Batch   15/44   train_loss = 0.804\n",
      "Epoch  75 Batch   30/44   train_loss = 0.706\n",
      "Epoch  76 Batch    1/44   train_loss = 0.737\n",
      "Epoch  76 Batch   16/44   train_loss = 0.781\n",
      "Epoch  76 Batch   31/44   train_loss = 0.710\n",
      "Epoch  77 Batch    2/44   train_loss = 0.803\n",
      "Epoch  77 Batch   17/44   train_loss = 0.716\n",
      "Epoch  77 Batch   32/44   train_loss = 0.809\n",
      "Epoch  78 Batch    3/44   train_loss = 0.768\n",
      "Epoch  78 Batch   18/44   train_loss = 0.757\n",
      "Epoch  78 Batch   33/44   train_loss = 0.731\n",
      "Epoch  79 Batch    4/44   train_loss = 0.755\n",
      "Epoch  79 Batch   19/44   train_loss = 0.699\n",
      "Epoch  79 Batch   34/44   train_loss = 0.726\n",
      "Epoch  80 Batch    5/44   train_loss = 0.748\n",
      "Epoch  80 Batch   20/44   train_loss = 0.694\n",
      "Epoch  80 Batch   35/44   train_loss = 0.719\n",
      "Epoch  81 Batch    6/44   train_loss = 0.698\n",
      "Epoch  81 Batch   21/44   train_loss = 0.671\n",
      "Epoch  81 Batch   36/44   train_loss = 0.779\n",
      "Epoch  82 Batch    7/44   train_loss = 0.731\n",
      "Epoch  82 Batch   22/44   train_loss = 0.741\n",
      "Epoch  82 Batch   37/44   train_loss = 0.706\n",
      "Epoch  83 Batch    8/44   train_loss = 0.679\n",
      "Epoch  83 Batch   23/44   train_loss = 0.689\n",
      "Epoch  83 Batch   38/44   train_loss = 0.752\n",
      "Epoch  84 Batch    9/44   train_loss = 0.680\n",
      "Epoch  84 Batch   24/44   train_loss = 0.684\n",
      "Epoch  84 Batch   39/44   train_loss = 0.764\n",
      "Epoch  85 Batch   10/44   train_loss = 0.688\n",
      "Epoch  85 Batch   25/44   train_loss = 0.662\n",
      "Epoch  85 Batch   40/44   train_loss = 0.712\n",
      "Epoch  86 Batch   11/44   train_loss = 0.669\n",
      "Epoch  86 Batch   26/44   train_loss = 0.713\n",
      "Epoch  86 Batch   41/44   train_loss = 0.727\n",
      "Epoch  87 Batch   12/44   train_loss = 0.772\n",
      "Epoch  87 Batch   27/44   train_loss = 0.704\n",
      "Epoch  87 Batch   42/44   train_loss = 0.714\n",
      "Epoch  88 Batch   13/44   train_loss = 0.714\n",
      "Epoch  88 Batch   28/44   train_loss = 0.704\n",
      "Epoch  88 Batch   43/44   train_loss = 0.681\n",
      "Epoch  89 Batch   14/44   train_loss = 0.682\n",
      "Epoch  89 Batch   29/44   train_loss = 0.641\n",
      "Epoch  90 Batch    0/44   train_loss = 0.717\n",
      "Epoch  90 Batch   15/44   train_loss = 0.749\n",
      "Epoch  90 Batch   30/44   train_loss = 0.688\n",
      "Epoch  91 Batch    1/44   train_loss = 0.682\n",
      "Epoch  91 Batch   16/44   train_loss = 0.742\n",
      "Epoch  91 Batch   31/44   train_loss = 0.652\n",
      "Epoch  92 Batch    2/44   train_loss = 0.728\n",
      "Epoch  92 Batch   17/44   train_loss = 0.673\n",
      "Epoch  92 Batch   32/44   train_loss = 0.714\n",
      "Epoch  93 Batch    3/44   train_loss = 0.747\n",
      "Epoch  93 Batch   18/44   train_loss = 0.694\n",
      "Epoch  93 Batch   33/44   train_loss = 0.624\n",
      "Epoch  94 Batch    4/44   train_loss = 0.725\n",
      "Epoch  94 Batch   19/44   train_loss = 0.652\n",
      "Epoch  94 Batch   34/44   train_loss = 0.660\n",
      "Epoch  95 Batch    5/44   train_loss = 0.700\n",
      "Epoch  95 Batch   20/44   train_loss = 0.695\n",
      "Epoch  95 Batch   35/44   train_loss = 0.703\n",
      "Epoch  96 Batch    6/44   train_loss = 0.695\n",
      "Epoch  96 Batch   21/44   train_loss = 0.650\n",
      "Epoch  96 Batch   36/44   train_loss = 0.715\n",
      "Epoch  97 Batch    7/44   train_loss = 0.672\n",
      "Epoch  97 Batch   22/44   train_loss = 0.723\n",
      "Epoch  97 Batch   37/44   train_loss = 0.660\n",
      "Epoch  98 Batch    8/44   train_loss = 0.647\n",
      "Epoch  98 Batch   23/44   train_loss = 0.667\n",
      "Epoch  98 Batch   38/44   train_loss = 0.674\n",
      "Epoch  99 Batch    9/44   train_loss = 0.631\n",
      "Epoch  99 Batch   24/44   train_loss = 0.626\n",
      "Epoch  99 Batch   39/44   train_loss = 0.665\n",
      "Model Trained and Saved\n"
     ]
    }
   ],
   "source": [
    "\"\"\"\n",
    "DON'T MODIFY ANYTHING IN THIS CELL\n",
    "\"\"\"\n",
    "batches = get_batches(int_text, batch_size, seq_length)\n",
    "\n",
    "with tf.Session(graph=train_graph) as sess:\n",
    "    sess.run(tf.global_variables_initializer())\n",
    "\n",
    "    for epoch_i in range(num_epochs):\n",
    "        state = sess.run(initial_state, {input_text: batches[0][0]})\n",
    "\n",
    "        for batch_i, (x, y) in enumerate(batches):\n",
    "            feed = {\n",
    "                input_text: x,\n",
    "                targets: y,\n",
    "                initial_state: state,\n",
    "                lr: learning_rate}\n",
    "            train_loss, state, _ = sess.run([cost, final_state, train_op], feed)\n",
    "\n",
    "            # Show every <show_every_n_batches> batches\n",
    "            if (epoch_i * len(batches) + batch_i) % show_every_n_batches == 0:\n",
    "                print('Epoch {:>3} Batch {:>4}/{}   train_loss = {:.3f}'.format(\n",
    "                    epoch_i,\n",
    "                    batch_i,\n",
    "                    len(batches),\n",
    "                    train_loss))\n",
    "\n",
    "    # Save Model\n",
    "    saver = tf.train.Saver()\n",
    "    saver.save(sess, save_dir)\n",
    "    print('Model Trained and Saved')"
   ]
  },
  {
   "cell_type": "markdown",
   "metadata": {},
   "source": [
    "## Save Parameters\n",
    "Save `seq_length` and `save_dir` for generating a new TV script."
   ]
  },
  {
   "cell_type": "code",
   "execution_count": 17,
   "metadata": {},
   "outputs": [],
   "source": [
    "\"\"\"\n",
    "DON'T MODIFY ANYTHING IN THIS CELL\n",
    "\"\"\"\n",
    "# Save parameters for checkpoint\n",
    "helper.save_params((seq_length, save_dir))"
   ]
  },
  {
   "cell_type": "markdown",
   "metadata": {},
   "source": [
    "# Checkpoint"
   ]
  },
  {
   "cell_type": "code",
   "execution_count": 18,
   "metadata": {},
   "outputs": [],
   "source": [
    "\"\"\"\n",
    "DON'T MODIFY ANYTHING IN THIS CELL\n",
    "\"\"\"\n",
    "import tensorflow as tf\n",
    "import numpy as np\n",
    "import helper\n",
    "import problem_unittests as tests\n",
    "\n",
    "_, vocab_to_int, int_to_vocab, token_dict = helper.load_preprocess()\n",
    "seq_length, load_dir = helper.load_params()"
   ]
  },
  {
   "cell_type": "markdown",
   "metadata": {},
   "source": [
    "## Implement Generate Functions\n",
    "### Get Tensors\n",
    "Get tensors from `loaded_graph` using the function [`get_tensor_by_name()`](https://www.tensorflow.org/api_docs/python/tf/Graph#get_tensor_by_name).  Get the tensors using the following names:\n",
    "- \"input:0\"\n",
    "- \"initial_state:0\"\n",
    "- \"final_state:0\"\n",
    "- \"probs:0\"\n",
    "\n",
    "Return the tensors in the following tuple `(InputTensor, InitialStateTensor, FinalStateTensor, ProbsTensor)` "
   ]
  },
  {
   "cell_type": "code",
   "execution_count": 19,
   "metadata": {},
   "outputs": [
    {
     "name": "stdout",
     "output_type": "stream",
     "text": [
      "Tests Passed\n"
     ]
    }
   ],
   "source": [
    "def get_tensors(loaded_graph):\n",
    "    \"\"\"\n",
    "    Get input, initial state, final state, and probabilities tensor from <loaded_graph>\n",
    "    :param loaded_graph: TensorFlow graph loaded from file\n",
    "    :return: Tuple (InputTensor, InitialStateTensor, FinalStateTensor, ProbsTensor)\n",
    "    \"\"\"\n",
    "    InputTensor = loaded_graph.get_tensor_by_name('input:0')\n",
    "    InitialStateTensor = loaded_graph.get_tensor_by_name('initial_state:0')\n",
    "    FinalStateTensor = loaded_graph.get_tensor_by_name('final_state:0')\n",
    "    ProbsTensor = loaded_graph.get_tensor_by_name('probs:0')\n",
    "    \n",
    "    return (InputTensor, InitialStateTensor, FinalStateTensor, ProbsTensor)\n",
    "\n",
    "\"\"\"\n",
    "DON'T MODIFY ANYTHING IN THIS CELL THAT IS BELOW THIS LINE\n",
    "\"\"\"\n",
    "tests.test_get_tensors(get_tensors)"
   ]
  },
  {
   "cell_type": "markdown",
   "metadata": {},
   "source": [
    "### Choose Word\n",
    "Implement the `pick_word()` function to select the next word using `probabilities`."
   ]
  },
  {
   "cell_type": "code",
   "execution_count": 21,
   "metadata": {},
   "outputs": [
    {
     "name": "stdout",
     "output_type": "stream",
     "text": [
      "Tests Passed\n"
     ]
    }
   ],
   "source": [
    "def pick_word(probabilities, int_to_vocab):\n",
    "    \"\"\"\n",
    "    Pick the next word in the generated text\n",
    "    :param probabilities: Probabilites of the next word\n",
    "    :param int_to_vocab: Dictionary of word ids as the keys and words as the values\n",
    "    :return: String of the predicted word\n",
    "    \"\"\"\n",
    "    sentence_builder = int_to_vocab[np.argmax(probabilities)]\n",
    "    return sentence_builder\n",
    " \n",
    "    \n",
    "\n",
    "\"\"\"\n",
    "DON'T MODIFY ANYTHING IN THIS CELL THAT IS BELOW THIS LINE\n",
    "\"\"\"\n",
    "tests.test_pick_word(pick_word)"
   ]
  },
  {
   "cell_type": "markdown",
   "metadata": {},
   "source": [
    "## Generate TV Script\n",
    "This will generate the TV script for you.  Set `gen_length` to the length of TV script you want to generate."
   ]
  },
  {
   "cell_type": "code",
   "execution_count": 23,
   "metadata": {},
   "outputs": [
    {
     "name": "stdout",
     "output_type": "stream",
     "text": [
      "homer_simpson:(upset) marge, you're making a complete fool of yourse.\n",
      "lenny_leonard:(amid curious) yeah hey to you. what's me. / canyonero...\"\n",
      "homer_simpson: woo hoo! i'm all alone!\n",
      "marge_simpson: i sent were tasty, homer.\n",
      "ron_howard: homer, barney.\n",
      "\n",
      "lenny_leonard: you sayin' you want that?\n",
      "moe_szyslak: you can't let 'em close me my most expensive beer: duff platinum.\n",
      "moe_szyslak: what are you talking about? i don't need your sharity! i'll stay for one person that can play bridge with our lives.\n",
      "moe_szyslak:(emotional) oh, come on, bart.\n",
      "barney_gumble: wow! super bar on over. ooh, the pressure's off, duff trivia and fat tony!(quiet!\n",
      "\n",
      "\n",
      "lenny_leonard: according to\n"
     ]
    }
   ],
   "source": [
    "gen_length = 150\n",
    "# homer_simpson, moe_szyslak, or Barney_Gumble\n",
    "prime_word = 'homer_simpson'\n",
    "\n",
    "\"\"\"\n",
    "DON'T MODIFY ANYTHING IN THIS CELL THAT IS BELOW THIS LINE\n",
    "\"\"\"\n",
    "loaded_graph = tf.Graph()\n",
    "with tf.Session(graph=loaded_graph) as sess:\n",
    "    # Load saved model\n",
    "    loader = tf.train.import_meta_graph(load_dir + '.meta')\n",
    "    loader.restore(sess, load_dir)\n",
    "\n",
    "    # Get Tensors from loaded model\n",
    "    input_text, initial_state, final_state, probs = get_tensors(loaded_graph)\n",
    "\n",
    "    # Sentences generation setup\n",
    "    gen_sentences = [prime_word + ':']\n",
    "    prev_state = sess.run(initial_state, {input_text: np.array([[1]])})\n",
    "\n",
    "    # Generate sentences\n",
    "    for n in range(gen_length):\n",
    "        # Dynamic Input\n",
    "        dyn_input = [[vocab_to_int[word] for word in gen_sentences[-seq_length:]]]\n",
    "        dyn_seq_length = len(dyn_input[0])\n",
    "\n",
    "        # Get Prediction\n",
    "        probabilities, prev_state = sess.run(\n",
    "            [probs, final_state],\n",
    "            {input_text: dyn_input, initial_state: prev_state})\n",
    "        \n",
    "        pred_word = pick_word(probabilities[dyn_seq_length-1], int_to_vocab)\n",
    "\n",
    "        gen_sentences.append(pred_word)\n",
    "    \n",
    "    # Remove tokens\n",
    "    tv_script = ' '.join(gen_sentences)\n",
    "    for key, token in token_dict.items():\n",
    "        ending = ' ' if key in ['\\n', '(', '\"'] else ''\n",
    "        tv_script = tv_script.replace(' ' + token.lower(), key)\n",
    "    tv_script = tv_script.replace('\\n ', '\\n')\n",
    "    tv_script = tv_script.replace('( ', '(')\n",
    "        \n",
    "    print(tv_script)"
   ]
  },
  {
   "cell_type": "markdown",
   "metadata": {},
   "source": [
    "# The TV Script is Nonsensical\n",
    "It's ok if the TV script doesn't make any sense.  We trained on less than a megabyte of text.  In order to get good results, you'll have to use a smaller vocabulary or get more data.  Luckily there's more data!  As we mentioned in the beggining of this project, this is a subset of [another dataset](https://www.kaggle.com/wcukierski/the-simpsons-by-the-data).  We didn't have you train on all the data, because that would take too long.  However, you are free to train your neural network on all the data.  After you complete the project, of course.\n",
    "# Submitting This Project\n",
    "When submitting this project, make sure to run all the cells before saving the notebook. Save the notebook file as \"dlnd_tv_script_generation.ipynb\" and save it as a HTML file under \"File\" -> \"Download as\". Include the \"helper.py\" and \"problem_unittests.py\" files in your submission."
   ]
  },
  {
   "cell_type": "code",
   "execution_count": null,
   "metadata": {},
   "outputs": [],
   "source": []
  }
 ],
 "metadata": {
  "kernelspec": {
   "display_name": "Python 3",
   "language": "python",
   "name": "python3"
  },
  "language_info": {
   "codemirror_mode": {
    "name": "ipython",
    "version": 3
   },
   "file_extension": ".py",
   "mimetype": "text/x-python",
   "name": "python",
   "nbconvert_exporter": "python",
   "pygments_lexer": "ipython3",
   "version": "3.5.2"
  },
  "widgets": {
   "state": {},
   "version": "1.1.2"
  }
 },
 "nbformat": 4,
 "nbformat_minor": 1
}
